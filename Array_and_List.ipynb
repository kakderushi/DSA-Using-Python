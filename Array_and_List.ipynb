{
  "nbformat": 4,
  "nbformat_minor": 0,
  "metadata": {
    "colab": {
      "provenance": []
    },
    "kernelspec": {
      "name": "python3",
      "display_name": "Python 3"
    },
    "language_info": {
      "name": "python"
    }
  },
  "cells": [
    {
      "cell_type": "code",
      "execution_count": null,
      "metadata": {
        "id": "tfGbxyQW2d3O"
      },
      "outputs": [],
      "source": []
    },
    {
      "cell_type": "markdown",
      "source": [
        "Array and List"
      ],
      "metadata": {
        "id": "nv25WGrQ2xNH"
      }
    },
    {
      "cell_type": "code",
      "source": [
        "# How to make array in python\n",
        "# array has store same kinds of data\n",
        "# array is group of variable\n",
        "#array's element have fixed size\n",
        "from array import*"
      ],
      "metadata": {
        "id": "MsnLIEJ52y5g"
      },
      "execution_count": null,
      "outputs": []
    },
    {
      "cell_type": "code",
      "source": [
        "a1=array('i',[23,23,12,34,16])    # ( type code, [elements])"
      ],
      "metadata": {
        "id": "_2uOYQ6ZFvKE"
      },
      "execution_count": null,
      "outputs": []
    },
    {
      "cell_type": "code",
      "source": [
        "type(a1)"
      ],
      "metadata": {
        "colab": {
          "base_uri": "https://localhost:8080/"
        },
        "id": "rhFPIqD4GdJm",
        "outputId": "64562e07-7904-4002-ba8e-6e24c5bbec7e"
      },
      "execution_count": null,
      "outputs": [
        {
          "output_type": "execute_result",
          "data": {
            "text/plain": [
              "array.array"
            ]
          },
          "metadata": {},
          "execution_count": 4
        }
      ]
    },
    {
      "cell_type": "code",
      "source": [
        "print(a1)"
      ],
      "metadata": {
        "colab": {
          "base_uri": "https://localhost:8080/"
        },
        "id": "UCO6PoQBGez5",
        "outputId": "ab761550-fa66-4da6-f048-d432fa961aae"
      },
      "execution_count": null,
      "outputs": [
        {
          "output_type": "stream",
          "name": "stdout",
          "text": [
            "array('i', [23, 23, 12, 34, 16])\n"
          ]
        }
      ]
    },
    {
      "cell_type": "code",
      "source": [
        "for i in a1:\n",
        "  print(i)"
      ],
      "metadata": {
        "colab": {
          "base_uri": "https://localhost:8080/"
        },
        "id": "tE3deMtGGhAe",
        "outputId": "03ffdc7c-b57d-4548-81bd-c8813f2758c2"
      },
      "execution_count": null,
      "outputs": [
        {
          "output_type": "stream",
          "name": "stdout",
          "text": [
            "23\n",
            "23\n",
            "12\n",
            "34\n",
            "16\n"
          ]
        }
      ]
    },
    {
      "cell_type": "code",
      "source": [
        "for i in range(3):\n",
        "  print(a1[i])"
      ],
      "metadata": {
        "colab": {
          "base_uri": "https://localhost:8080/"
        },
        "id": "Criu8KQIGnUm",
        "outputId": "19064db2-21fd-490a-e651-2450236902ea"
      },
      "execution_count": null,
      "outputs": [
        {
          "output_type": "stream",
          "name": "stdout",
          "text": [
            "23\n",
            "23\n",
            "12\n"
          ]
        }
      ]
    },
    {
      "cell_type": "code",
      "source": [
        "# array methods\n",
        "# append(), count(), extend(), fromlist(), index(), insert(), pop(), remove(), reverse(), toList()\n",
        "a1.append(20)"
      ],
      "metadata": {
        "id": "uN93G3uhG6_5"
      },
      "execution_count": null,
      "outputs": []
    },
    {
      "cell_type": "code",
      "source": [
        "a1"
      ],
      "metadata": {
        "colab": {
          "base_uri": "https://localhost:8080/"
        },
        "id": "rTuMAF3jHrQQ",
        "outputId": "56a5bc0a-2be0-49be-8c00-22a121b3c326"
      },
      "execution_count": null,
      "outputs": [
        {
          "output_type": "execute_result",
          "data": {
            "text/plain": [
              "array('i', [23, 23, 12, 34, 16, 20])"
            ]
          },
          "metadata": {},
          "execution_count": 11
        }
      ]
    },
    {
      "cell_type": "code",
      "source": [
        "# count\n",
        "a1.count(20)"
      ],
      "metadata": {
        "colab": {
          "base_uri": "https://localhost:8080/"
        },
        "id": "r1LagrMoHss3",
        "outputId": "d7c7650b-4fe8-4efc-ef26-debaf01201ba"
      },
      "execution_count": null,
      "outputs": [
        {
          "output_type": "execute_result",
          "data": {
            "text/plain": [
              "1"
            ]
          },
          "metadata": {},
          "execution_count": 12
        }
      ]
    },
    {
      "cell_type": "code",
      "source": [
        "# index\n",
        "a1.index(20)"
      ],
      "metadata": {
        "colab": {
          "base_uri": "https://localhost:8080/"
        },
        "id": "K47iWXr_Hwnm",
        "outputId": "9d0cf8d8-3800-4354-95db-9ca72fb33a63"
      },
      "execution_count": null,
      "outputs": [
        {
          "output_type": "execute_result",
          "data": {
            "text/plain": [
              "5"
            ]
          },
          "metadata": {},
          "execution_count": 14
        }
      ]
    },
    {
      "cell_type": "code",
      "source": [
        "a1.pop(0)   # pop"
      ],
      "metadata": {
        "colab": {
          "base_uri": "https://localhost:8080/"
        },
        "id": "antE7MJ1ITB5",
        "outputId": "66d07c3f-ec85-42a3-f107-02098bb94d8e"
      },
      "execution_count": null,
      "outputs": [
        {
          "output_type": "execute_result",
          "data": {
            "text/plain": [
              "23"
            ]
          },
          "metadata": {},
          "execution_count": 16
        }
      ]
    },
    {
      "cell_type": "code",
      "source": [
        "a1.reverse()"
      ],
      "metadata": {
        "id": "DpOzcfIMIX9q"
      },
      "execution_count": null,
      "outputs": []
    },
    {
      "cell_type": "code",
      "source": [],
      "metadata": {
        "id": "q_g5bwr9Igub"
      },
      "execution_count": null,
      "outputs": []
    },
    {
      "cell_type": "markdown",
      "source": [
        "List"
      ],
      "metadata": {
        "id": "DYNYtyVpIjHb"
      }
    },
    {
      "cell_type": "code",
      "source": [
        "# difference between array and dynamic array\n",
        "# array:array is collection of same type of elements\n",
        "# array is fixed type\n",
        "# array has indexed\n",
        "# we cannot change the size of the array\n",
        "\n",
        "\n",
        "# List\n",
        "#List is collectoion of hetergenous element which menas differnt type of element\n",
        "# List is dynamic type of array\n",
        "# list is a class\n",
        "# list is mutable\n",
        "# list element are indexed\n",
        "# list is an iterable\n",
        "# list can grow( dynamic)\n",
        "# list can contain differnet type of elements\n",
        "# list methods: append(), clear(), count(), extnd(), index(), insert(), pop(), remvoe(), sort(), reverse()\n",
        "\n",
        "\n",
        "\n",
        "# dyanamic array\n",
        "# dynamic array has same type of  elements\n",
        "# array has indexed\n",
        "#Here we can change the size of the array\n"
      ],
      "metadata": {
        "id": "WRkz1cMvIj_k"
      },
      "execution_count": null,
      "outputs": []
    },
    {
      "cell_type": "code",
      "source": [],
      "metadata": {
        "id": "HB4y8lSELvzD"
      },
      "execution_count": null,
      "outputs": []
    },
    {
      "cell_type": "markdown",
      "source": [
        "Python built in methods\n",
        "len(), sum(), max(), min() , sorted()"
      ],
      "metadata": {
        "id": "gmxgdJGVLz9y"
      }
    },
    {
      "cell_type": "code",
      "source": [
        "import numpy as np"
      ],
      "metadata": {
        "id": "oINc5LGAL66P"
      },
      "execution_count": null,
      "outputs": []
    },
    {
      "cell_type": "code",
      "source": [
        "a=np.array([1,2,3,5,6])"
      ],
      "metadata": {
        "id": "VPSevDd0MHpp"
      },
      "execution_count": null,
      "outputs": []
    },
    {
      "cell_type": "code",
      "source": [
        "a"
      ],
      "metadata": {
        "colab": {
          "base_uri": "https://localhost:8080/"
        },
        "id": "BhoOa4sIMXAM",
        "outputId": "2e7f9363-5f7d-418e-b979-13b8d661ade5"
      },
      "execution_count": null,
      "outputs": [
        {
          "output_type": "execute_result",
          "data": {
            "text/plain": [
              "array([1, 2, 3, 5, 6])"
            ]
          },
          "metadata": {},
          "execution_count": 21
        }
      ]
    },
    {
      "cell_type": "code",
      "source": [],
      "metadata": {
        "id": "JvZSQS0XMXpY"
      },
      "execution_count": null,
      "outputs": []
    }
  ]
}